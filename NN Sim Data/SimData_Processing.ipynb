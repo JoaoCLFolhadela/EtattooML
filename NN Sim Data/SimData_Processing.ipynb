{
  "nbformat": 4,
  "nbformat_minor": 0,
  "metadata": {
    "colab": {
      "provenance": []
    },
    "kernelspec": {
      "name": "python3",
      "display_name": "Python 3"
    },
    "language_info": {
      "name": "python"
    }
  },
  "cells": [
    {
      "cell_type": "markdown",
      "source": [
        "# Data Processing on COMSOL data\n",
        "\n",
        "This notebook serves to arrange the data extracted from COMSOL simulations. We extract the peak voltages obtained for each signal and then construct the associated labels (AP), a normalization to the data is also performed."
      ],
      "metadata": {
        "id": "B9jrh2ScmC9q"
      }
    },
    {
      "cell_type": "code",
      "execution_count": null,
      "metadata": {
        "id": "y0Vxwv9HUKXc"
      },
      "outputs": [],
      "source": [
        "import pandas as pd\n",
        "import numpy as np\n",
        "import matplotlib.pyplot as plt\n",
        "from sklearn import preprocessing\n",
        "import glob\n",
        "import seaborn as sns\n",
        "\n",
        "\n",
        "path = \"Data\"\n",
        "n_outputs, p_outputs = (\"Volt_n1_V_out\",\"Volt_n2_V_out\",\"Volt_n3_V_out\"),(\"Volt_p1_V_out\",\"Volt_p2_V_out\",\"Volt_p3_V_out\")\n",
        "\n",
        "headers = [\"n1\",\"n2\",\"n3\",\n",
        "           \"p1\",\"p2\",\"p3\",\n",
        "           \"AP1\", \"AP2\", \"AP3\", \"AP4\", \"AP5\", \"AP6\", \"AP7\", \"AP8\", \"AP9\"] # Ai == active point i\n",
        "\n",
        "peaks_df = pd.DataFrame(columns= headers) # empty df\n",
        "grid = np.array([1,2,3,4,5,6,7,8,9], dtype = int)\n",
        "zero_active_points = np.zeros(len(grid), dtype = int)"
      ]
    },
    {
      "cell_type": "code",
      "source": [
        "# active_points = [a,b,c,d,e,f,g,h] where they take values 0 or 1, corresponding to [1,2,3,4,5,6,7,8,9] points in the grid\n",
        "\n",
        "def get_label(file_name):\n",
        "\n",
        "    active_points = zero_active_points.copy()\n",
        "\n",
        "    left_bracket = file_name.find(\"(\")\n",
        "    right_bracket = file_name.find(\")\")\n",
        "    try:\n",
        "        points = (file_name[left_bracket+1 : right_bracket]).replace(\",\", \"\")\n",
        "    except:\n",
        "        print(\"Error found trying to replace ','.\")\n",
        "    try:\n",
        "        points = points.replace(\" \", \"\")\n",
        "    except:\n",
        "        print(\"No spaces found.\")\n",
        "\n",
        "    for point in points:\n",
        "        active_index = np.where(grid == int(point))[0][0]\n",
        "        active_points[active_index] = 1\n",
        "\n",
        "    return active_points\n",
        "\n",
        "def create_row(files):\n",
        "\n",
        "    for file in files:\n",
        "        try:\n",
        "            df = pd.read_csv(file, index_col= None, sep = \";\")\n",
        "            df = df.drop(columns= [\"PVDF1\",\"PVDF2\", \"PVDF3\", \"PVDF4\", \"PVDF5\", \"PVDF6\",\"PVDF7\", \"PVDF8\", \"PVDF9\"])\n",
        "            df = df.loc[df[\"Time\"] < 10]\n",
        "\n",
        "        except:\n",
        "            try:\n",
        "                df = df.drop(columns= [\"Temp_PVDF_1\", \"Temp_PVDF_2\"])\n",
        "            except:\n",
        "                print(\"Error in file: \", file)\n",
        "\n",
        "\n",
        "        # Checks where the peak is and saves it to a variable\n",
        "        n1_max = (df.loc[abs(df[\"Volt_n1_V_out\"]) == max(abs(df[\"Volt_n1_V_out\"]))][[\"Volt_n1_V_out\"]]).values[0][0]\n",
        "        n2_max = (df.loc[abs(df[\"Volt_n2_V_out\"]) == max(abs(df[\"Volt_n2_V_out\"]))][[\"Volt_n2_V_out\"]]).values[0][0]\n",
        "        n3_max = (df.loc[abs(df[\"Volt_n3_V_out\"]) == max(abs(df[\"Volt_n3_V_out\"]))][[\"Volt_n3_V_out\"]]).values[0][0]\n",
        "\n",
        "        p1_max = (df.loc[abs(df[\"Volt_p1_V_out\"]) == max(abs(df[\"Volt_p1_V_out\"]))][[\"Volt_p1_V_out\"]]).values[0][0]\n",
        "        p2_max = (df.loc[abs(df[\"Volt_p2_V_out\"]) == max(abs(df[\"Volt_p2_V_out\"]))][[\"Volt_p2_V_out\"]]).values[0][0]\n",
        "        p3_max = (df.loc[abs(df[\"Volt_p3_V_out\"]) == max(abs(df[\"Volt_p3_V_out\"]))][[\"Volt_p3_V_out\"]]).values[0][0]\n",
        "\n",
        "        features = [n1_max, n2_max, n3_max, p1_max, p2_max, p3_max]\n",
        "        labels = get_label(file_name = file)\n",
        "\n",
        "        row = np.concatenate((features, labels)) # joins the features \"list\" and the \"labels\" array\n",
        "\n",
        "        # add row in the df\n",
        "        global peaks_df\n",
        "        peaks_df.loc[-1] = row  # adding a row\n",
        "        peaks_df.index = peaks_df.index + 1  # shifting index\n",
        "        peaks_df = peaks_df.sort_index()  # sorting by index\n",
        "\n",
        "    peaks_df[headers[6:]] = peaks_df[headers[6:]].apply(np.int8) # set labels to integers\n",
        "\n",
        "for i in range(1,10):\n",
        "    the_path = path + f\"/{i} points/\"\n",
        "    that_path_files = glob.glob(the_path + \"/*.csv\")\n",
        "    create_row(files = that_path_files)\n"
      ],
      "metadata": {
        "id": "v68mESQMUWZ1"
      },
      "execution_count": null,
      "outputs": []
    }
  ]
}